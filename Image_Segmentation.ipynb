{
  "nbformat": 4,
  "nbformat_minor": 0,
  "metadata": {
    "colab": {
      "provenance": []
    },
    "kernelspec": {
      "name": "python3",
      "display_name": "Python 3"
    },
    "language_info": {
      "name": "python"
    },
    "accelerator": "GPU",
    "gpuClass": "standard",
    "widgets": {
      "application/vnd.jupyter.widget-state+json": {
        "b4402e23ea6942b29e40b60d98c6e160": {
          "model_module": "@jupyter-widgets/controls",
          "model_name": "HBoxModel",
          "model_module_version": "1.5.0",
          "state": {
            "_dom_classes": [],
            "_model_module": "@jupyter-widgets/controls",
            "_model_module_version": "1.5.0",
            "_model_name": "HBoxModel",
            "_view_count": null,
            "_view_module": "@jupyter-widgets/controls",
            "_view_module_version": "1.5.0",
            "_view_name": "HBoxView",
            "box_style": "",
            "children": [
              "IPY_MODEL_a00c2671ff4a4daca6feb15b53e68308",
              "IPY_MODEL_0e81d20f71854095accd19e952cc0838",
              "IPY_MODEL_98af8dce45f34914b9498069ff1602d0"
            ],
            "layout": "IPY_MODEL_7dffb6911fda49bda32c7634c70e2ad8"
          }
        },
        "a00c2671ff4a4daca6feb15b53e68308": {
          "model_module": "@jupyter-widgets/controls",
          "model_name": "HTMLModel",
          "model_module_version": "1.5.0",
          "state": {
            "_dom_classes": [],
            "_model_module": "@jupyter-widgets/controls",
            "_model_module_version": "1.5.0",
            "_model_name": "HTMLModel",
            "_view_count": null,
            "_view_module": "@jupyter-widgets/controls",
            "_view_module_version": "1.5.0",
            "_view_name": "HTMLView",
            "description": "",
            "description_tooltip": null,
            "layout": "IPY_MODEL_d296d87406314d358fe64359f5051d23",
            "placeholder": "​",
            "style": "IPY_MODEL_f7ed58c59d534ac7ae3e70a3cc81b007",
            "value": "100%"
          }
        },
        "0e81d20f71854095accd19e952cc0838": {
          "model_module": "@jupyter-widgets/controls",
          "model_name": "FloatProgressModel",
          "model_module_version": "1.5.0",
          "state": {
            "_dom_classes": [],
            "_model_module": "@jupyter-widgets/controls",
            "_model_module_version": "1.5.0",
            "_model_name": "FloatProgressModel",
            "_view_count": null,
            "_view_module": "@jupyter-widgets/controls",
            "_view_module_version": "1.5.0",
            "_view_name": "ProgressView",
            "bar_style": "success",
            "description": "",
            "description_tooltip": null,
            "layout": "IPY_MODEL_c9f239768c004aef9a8af44145852675",
            "max": 2000,
            "min": 0,
            "orientation": "horizontal",
            "style": "IPY_MODEL_173be9682fc74bb5a2820e5a65e62681",
            "value": 2000
          }
        },
        "98af8dce45f34914b9498069ff1602d0": {
          "model_module": "@jupyter-widgets/controls",
          "model_name": "HTMLModel",
          "model_module_version": "1.5.0",
          "state": {
            "_dom_classes": [],
            "_model_module": "@jupyter-widgets/controls",
            "_model_module_version": "1.5.0",
            "_model_name": "HTMLModel",
            "_view_count": null,
            "_view_module": "@jupyter-widgets/controls",
            "_view_module_version": "1.5.0",
            "_view_name": "HTMLView",
            "description": "",
            "description_tooltip": null,
            "layout": "IPY_MODEL_fb31310137c84576bb07ff34897eaf72",
            "placeholder": "​",
            "style": "IPY_MODEL_28bd6148d46340968dd65271bf417b64",
            "value": " 2000/2000 [00:00&lt;00:00, 84659.02it/s]"
          }
        },
        "7dffb6911fda49bda32c7634c70e2ad8": {
          "model_module": "@jupyter-widgets/base",
          "model_name": "LayoutModel",
          "model_module_version": "1.2.0",
          "state": {
            "_model_module": "@jupyter-widgets/base",
            "_model_module_version": "1.2.0",
            "_model_name": "LayoutModel",
            "_view_count": null,
            "_view_module": "@jupyter-widgets/base",
            "_view_module_version": "1.2.0",
            "_view_name": "LayoutView",
            "align_content": null,
            "align_items": null,
            "align_self": null,
            "border": null,
            "bottom": null,
            "display": null,
            "flex": null,
            "flex_flow": null,
            "grid_area": null,
            "grid_auto_columns": null,
            "grid_auto_flow": null,
            "grid_auto_rows": null,
            "grid_column": null,
            "grid_gap": null,
            "grid_row": null,
            "grid_template_areas": null,
            "grid_template_columns": null,
            "grid_template_rows": null,
            "height": null,
            "justify_content": null,
            "justify_items": null,
            "left": null,
            "margin": null,
            "max_height": null,
            "max_width": null,
            "min_height": null,
            "min_width": null,
            "object_fit": null,
            "object_position": null,
            "order": null,
            "overflow": null,
            "overflow_x": null,
            "overflow_y": null,
            "padding": null,
            "right": null,
            "top": null,
            "visibility": null,
            "width": null
          }
        },
        "d296d87406314d358fe64359f5051d23": {
          "model_module": "@jupyter-widgets/base",
          "model_name": "LayoutModel",
          "model_module_version": "1.2.0",
          "state": {
            "_model_module": "@jupyter-widgets/base",
            "_model_module_version": "1.2.0",
            "_model_name": "LayoutModel",
            "_view_count": null,
            "_view_module": "@jupyter-widgets/base",
            "_view_module_version": "1.2.0",
            "_view_name": "LayoutView",
            "align_content": null,
            "align_items": null,
            "align_self": null,
            "border": null,
            "bottom": null,
            "display": null,
            "flex": null,
            "flex_flow": null,
            "grid_area": null,
            "grid_auto_columns": null,
            "grid_auto_flow": null,
            "grid_auto_rows": null,
            "grid_column": null,
            "grid_gap": null,
            "grid_row": null,
            "grid_template_areas": null,
            "grid_template_columns": null,
            "grid_template_rows": null,
            "height": null,
            "justify_content": null,
            "justify_items": null,
            "left": null,
            "margin": null,
            "max_height": null,
            "max_width": null,
            "min_height": null,
            "min_width": null,
            "object_fit": null,
            "object_position": null,
            "order": null,
            "overflow": null,
            "overflow_x": null,
            "overflow_y": null,
            "padding": null,
            "right": null,
            "top": null,
            "visibility": null,
            "width": null
          }
        },
        "f7ed58c59d534ac7ae3e70a3cc81b007": {
          "model_module": "@jupyter-widgets/controls",
          "model_name": "DescriptionStyleModel",
          "model_module_version": "1.5.0",
          "state": {
            "_model_module": "@jupyter-widgets/controls",
            "_model_module_version": "1.5.0",
            "_model_name": "DescriptionStyleModel",
            "_view_count": null,
            "_view_module": "@jupyter-widgets/base",
            "_view_module_version": "1.2.0",
            "_view_name": "StyleView",
            "description_width": ""
          }
        },
        "c9f239768c004aef9a8af44145852675": {
          "model_module": "@jupyter-widgets/base",
          "model_name": "LayoutModel",
          "model_module_version": "1.2.0",
          "state": {
            "_model_module": "@jupyter-widgets/base",
            "_model_module_version": "1.2.0",
            "_model_name": "LayoutModel",
            "_view_count": null,
            "_view_module": "@jupyter-widgets/base",
            "_view_module_version": "1.2.0",
            "_view_name": "LayoutView",
            "align_content": null,
            "align_items": null,
            "align_self": null,
            "border": null,
            "bottom": null,
            "display": null,
            "flex": null,
            "flex_flow": null,
            "grid_area": null,
            "grid_auto_columns": null,
            "grid_auto_flow": null,
            "grid_auto_rows": null,
            "grid_column": null,
            "grid_gap": null,
            "grid_row": null,
            "grid_template_areas": null,
            "grid_template_columns": null,
            "grid_template_rows": null,
            "height": null,
            "justify_content": null,
            "justify_items": null,
            "left": null,
            "margin": null,
            "max_height": null,
            "max_width": null,
            "min_height": null,
            "min_width": null,
            "object_fit": null,
            "object_position": null,
            "order": null,
            "overflow": null,
            "overflow_x": null,
            "overflow_y": null,
            "padding": null,
            "right": null,
            "top": null,
            "visibility": null,
            "width": null
          }
        },
        "173be9682fc74bb5a2820e5a65e62681": {
          "model_module": "@jupyter-widgets/controls",
          "model_name": "ProgressStyleModel",
          "model_module_version": "1.5.0",
          "state": {
            "_model_module": "@jupyter-widgets/controls",
            "_model_module_version": "1.5.0",
            "_model_name": "ProgressStyleModel",
            "_view_count": null,
            "_view_module": "@jupyter-widgets/base",
            "_view_module_version": "1.2.0",
            "_view_name": "StyleView",
            "bar_color": null,
            "description_width": ""
          }
        },
        "fb31310137c84576bb07ff34897eaf72": {
          "model_module": "@jupyter-widgets/base",
          "model_name": "LayoutModel",
          "model_module_version": "1.2.0",
          "state": {
            "_model_module": "@jupyter-widgets/base",
            "_model_module_version": "1.2.0",
            "_model_name": "LayoutModel",
            "_view_count": null,
            "_view_module": "@jupyter-widgets/base",
            "_view_module_version": "1.2.0",
            "_view_name": "LayoutView",
            "align_content": null,
            "align_items": null,
            "align_self": null,
            "border": null,
            "bottom": null,
            "display": null,
            "flex": null,
            "flex_flow": null,
            "grid_area": null,
            "grid_auto_columns": null,
            "grid_auto_flow": null,
            "grid_auto_rows": null,
            "grid_column": null,
            "grid_gap": null,
            "grid_row": null,
            "grid_template_areas": null,
            "grid_template_columns": null,
            "grid_template_rows": null,
            "height": null,
            "justify_content": null,
            "justify_items": null,
            "left": null,
            "margin": null,
            "max_height": null,
            "max_width": null,
            "min_height": null,
            "min_width": null,
            "object_fit": null,
            "object_position": null,
            "order": null,
            "overflow": null,
            "overflow_x": null,
            "overflow_y": null,
            "padding": null,
            "right": null,
            "top": null,
            "visibility": null,
            "width": null
          }
        },
        "28bd6148d46340968dd65271bf417b64": {
          "model_module": "@jupyter-widgets/controls",
          "model_name": "DescriptionStyleModel",
          "model_module_version": "1.5.0",
          "state": {
            "_model_module": "@jupyter-widgets/controls",
            "_model_module_version": "1.5.0",
            "_model_name": "DescriptionStyleModel",
            "_view_count": null,
            "_view_module": "@jupyter-widgets/base",
            "_view_module_version": "1.2.0",
            "_view_name": "StyleView",
            "description_width": ""
          }
        },
        "490a013f9c9247ac95908bc8bf45bbeb": {
          "model_module": "@jupyter-widgets/controls",
          "model_name": "HBoxModel",
          "model_module_version": "1.5.0",
          "state": {
            "_dom_classes": [],
            "_model_module": "@jupyter-widgets/controls",
            "_model_module_version": "1.5.0",
            "_model_name": "HBoxModel",
            "_view_count": null,
            "_view_module": "@jupyter-widgets/controls",
            "_view_module_version": "1.5.0",
            "_view_name": "HBoxView",
            "box_style": "",
            "children": [
              "IPY_MODEL_595f8241a97a453ab444146624f66e98",
              "IPY_MODEL_3593a4c67e1e40c9a9ecb13273a5f241",
              "IPY_MODEL_54fa26e4c2434c288e49132c36ebe1a4"
            ],
            "layout": "IPY_MODEL_7f5b54a72b6341a6a278c71b25eb2e92"
          }
        },
        "595f8241a97a453ab444146624f66e98": {
          "model_module": "@jupyter-widgets/controls",
          "model_name": "HTMLModel",
          "model_module_version": "1.5.0",
          "state": {
            "_dom_classes": [],
            "_model_module": "@jupyter-widgets/controls",
            "_model_module_version": "1.5.0",
            "_model_name": "HTMLModel",
            "_view_count": null,
            "_view_module": "@jupyter-widgets/controls",
            "_view_module_version": "1.5.0",
            "_view_name": "HTMLView",
            "description": "",
            "description_tooltip": null,
            "layout": "IPY_MODEL_a8fccb43322c4962b6986ffa2406f329",
            "placeholder": "​",
            "style": "IPY_MODEL_ecd19566bf034f2394e4cbcc2bd14dd9",
            "value": "100%"
          }
        },
        "3593a4c67e1e40c9a9ecb13273a5f241": {
          "model_module": "@jupyter-widgets/controls",
          "model_name": "FloatProgressModel",
          "model_module_version": "1.5.0",
          "state": {
            "_dom_classes": [],
            "_model_module": "@jupyter-widgets/controls",
            "_model_module_version": "1.5.0",
            "_model_name": "FloatProgressModel",
            "_view_count": null,
            "_view_module": "@jupyter-widgets/controls",
            "_view_module_version": "1.5.0",
            "_view_name": "ProgressView",
            "bar_style": "success",
            "description": "",
            "description_tooltip": null,
            "layout": "IPY_MODEL_b3f13ffd4fbb4fa48fa93f980a116a0c",
            "max": 63,
            "min": 0,
            "orientation": "horizontal",
            "style": "IPY_MODEL_d53ee73c08714cfaa768ddaa0cdf48ab",
            "value": 63
          }
        },
        "54fa26e4c2434c288e49132c36ebe1a4": {
          "model_module": "@jupyter-widgets/controls",
          "model_name": "HTMLModel",
          "model_module_version": "1.5.0",
          "state": {
            "_dom_classes": [],
            "_model_module": "@jupyter-widgets/controls",
            "_model_module_version": "1.5.0",
            "_model_name": "HTMLModel",
            "_view_count": null,
            "_view_module": "@jupyter-widgets/controls",
            "_view_module_version": "1.5.0",
            "_view_name": "HTMLView",
            "description": "",
            "description_tooltip": null,
            "layout": "IPY_MODEL_27ce34deb20a41e4b5b5989ae1c0164b",
            "placeholder": "​",
            "style": "IPY_MODEL_809205abe0964a9c9336649dc100de34",
            "value": " 63/63 [00:08&lt;00:00,  8.22it/s]"
          }
        },
        "7f5b54a72b6341a6a278c71b25eb2e92": {
          "model_module": "@jupyter-widgets/base",
          "model_name": "LayoutModel",
          "model_module_version": "1.2.0",
          "state": {
            "_model_module": "@jupyter-widgets/base",
            "_model_module_version": "1.2.0",
            "_model_name": "LayoutModel",
            "_view_count": null,
            "_view_module": "@jupyter-widgets/base",
            "_view_module_version": "1.2.0",
            "_view_name": "LayoutView",
            "align_content": null,
            "align_items": null,
            "align_self": null,
            "border": null,
            "bottom": null,
            "display": null,
            "flex": null,
            "flex_flow": null,
            "grid_area": null,
            "grid_auto_columns": null,
            "grid_auto_flow": null,
            "grid_auto_rows": null,
            "grid_column": null,
            "grid_gap": null,
            "grid_row": null,
            "grid_template_areas": null,
            "grid_template_columns": null,
            "grid_template_rows": null,
            "height": null,
            "justify_content": null,
            "justify_items": null,
            "left": null,
            "margin": null,
            "max_height": null,
            "max_width": null,
            "min_height": null,
            "min_width": null,
            "object_fit": null,
            "object_position": null,
            "order": null,
            "overflow": null,
            "overflow_x": null,
            "overflow_y": null,
            "padding": null,
            "right": null,
            "top": null,
            "visibility": null,
            "width": null
          }
        },
        "a8fccb43322c4962b6986ffa2406f329": {
          "model_module": "@jupyter-widgets/base",
          "model_name": "LayoutModel",
          "model_module_version": "1.2.0",
          "state": {
            "_model_module": "@jupyter-widgets/base",
            "_model_module_version": "1.2.0",
            "_model_name": "LayoutModel",
            "_view_count": null,
            "_view_module": "@jupyter-widgets/base",
            "_view_module_version": "1.2.0",
            "_view_name": "LayoutView",
            "align_content": null,
            "align_items": null,
            "align_self": null,
            "border": null,
            "bottom": null,
            "display": null,
            "flex": null,
            "flex_flow": null,
            "grid_area": null,
            "grid_auto_columns": null,
            "grid_auto_flow": null,
            "grid_auto_rows": null,
            "grid_column": null,
            "grid_gap": null,
            "grid_row": null,
            "grid_template_areas": null,
            "grid_template_columns": null,
            "grid_template_rows": null,
            "height": null,
            "justify_content": null,
            "justify_items": null,
            "left": null,
            "margin": null,
            "max_height": null,
            "max_width": null,
            "min_height": null,
            "min_width": null,
            "object_fit": null,
            "object_position": null,
            "order": null,
            "overflow": null,
            "overflow_x": null,
            "overflow_y": null,
            "padding": null,
            "right": null,
            "top": null,
            "visibility": null,
            "width": null
          }
        },
        "ecd19566bf034f2394e4cbcc2bd14dd9": {
          "model_module": "@jupyter-widgets/controls",
          "model_name": "DescriptionStyleModel",
          "model_module_version": "1.5.0",
          "state": {
            "_model_module": "@jupyter-widgets/controls",
            "_model_module_version": "1.5.0",
            "_model_name": "DescriptionStyleModel",
            "_view_count": null,
            "_view_module": "@jupyter-widgets/base",
            "_view_module_version": "1.2.0",
            "_view_name": "StyleView",
            "description_width": ""
          }
        },
        "b3f13ffd4fbb4fa48fa93f980a116a0c": {
          "model_module": "@jupyter-widgets/base",
          "model_name": "LayoutModel",
          "model_module_version": "1.2.0",
          "state": {
            "_model_module": "@jupyter-widgets/base",
            "_model_module_version": "1.2.0",
            "_model_name": "LayoutModel",
            "_view_count": null,
            "_view_module": "@jupyter-widgets/base",
            "_view_module_version": "1.2.0",
            "_view_name": "LayoutView",
            "align_content": null,
            "align_items": null,
            "align_self": null,
            "border": null,
            "bottom": null,
            "display": null,
            "flex": null,
            "flex_flow": null,
            "grid_area": null,
            "grid_auto_columns": null,
            "grid_auto_flow": null,
            "grid_auto_rows": null,
            "grid_column": null,
            "grid_gap": null,
            "grid_row": null,
            "grid_template_areas": null,
            "grid_template_columns": null,
            "grid_template_rows": null,
            "height": null,
            "justify_content": null,
            "justify_items": null,
            "left": null,
            "margin": null,
            "max_height": null,
            "max_width": null,
            "min_height": null,
            "min_width": null,
            "object_fit": null,
            "object_position": null,
            "order": null,
            "overflow": null,
            "overflow_x": null,
            "overflow_y": null,
            "padding": null,
            "right": null,
            "top": null,
            "visibility": null,
            "width": null
          }
        },
        "d53ee73c08714cfaa768ddaa0cdf48ab": {
          "model_module": "@jupyter-widgets/controls",
          "model_name": "ProgressStyleModel",
          "model_module_version": "1.5.0",
          "state": {
            "_model_module": "@jupyter-widgets/controls",
            "_model_module_version": "1.5.0",
            "_model_name": "ProgressStyleModel",
            "_view_count": null,
            "_view_module": "@jupyter-widgets/base",
            "_view_module_version": "1.2.0",
            "_view_name": "StyleView",
            "bar_color": null,
            "description_width": ""
          }
        },
        "27ce34deb20a41e4b5b5989ae1c0164b": {
          "model_module": "@jupyter-widgets/base",
          "model_name": "LayoutModel",
          "model_module_version": "1.2.0",
          "state": {
            "_model_module": "@jupyter-widgets/base",
            "_model_module_version": "1.2.0",
            "_model_name": "LayoutModel",
            "_view_count": null,
            "_view_module": "@jupyter-widgets/base",
            "_view_module_version": "1.2.0",
            "_view_name": "LayoutView",
            "align_content": null,
            "align_items": null,
            "align_self": null,
            "border": null,
            "bottom": null,
            "display": null,
            "flex": null,
            "flex_flow": null,
            "grid_area": null,
            "grid_auto_columns": null,
            "grid_auto_flow": null,
            "grid_auto_rows": null,
            "grid_column": null,
            "grid_gap": null,
            "grid_row": null,
            "grid_template_areas": null,
            "grid_template_columns": null,
            "grid_template_rows": null,
            "height": null,
            "justify_content": null,
            "justify_items": null,
            "left": null,
            "margin": null,
            "max_height": null,
            "max_width": null,
            "min_height": null,
            "min_width": null,
            "object_fit": null,
            "object_position": null,
            "order": null,
            "overflow": null,
            "overflow_x": null,
            "overflow_y": null,
            "padding": null,
            "right": null,
            "top": null,
            "visibility": null,
            "width": null
          }
        },
        "809205abe0964a9c9336649dc100de34": {
          "model_module": "@jupyter-widgets/controls",
          "model_name": "DescriptionStyleModel",
          "model_module_version": "1.5.0",
          "state": {
            "_model_module": "@jupyter-widgets/controls",
            "_model_module_version": "1.5.0",
            "_model_name": "DescriptionStyleModel",
            "_view_count": null,
            "_view_module": "@jupyter-widgets/base",
            "_view_module_version": "1.2.0",
            "_view_name": "StyleView",
            "description_width": ""
          }
        }
      }
    }
  },
  "cells": [
    {
      "cell_type": "code",
      "source": [
        "!pip install torchmetrics"
      ],
      "metadata": {
        "colab": {
          "base_uri": "https://localhost:8080/"
        },
        "id": "31SN80Bo6IM4",
        "outputId": "5e08b66b-bd01-4bb0-b00c-886c110c473a"
      },
      "execution_count": null,
      "outputs": [
        {
          "output_type": "stream",
          "name": "stdout",
          "text": [
            "Looking in indexes: https://pypi.org/simple, https://us-python.pkg.dev/colab-wheels/public/simple/\n",
            "Collecting torchmetrics\n",
            "  Downloading torchmetrics-0.11.4-py3-none-any.whl (519 kB)\n",
            "\u001b[2K     \u001b[90m━━━━━━━━━━━━━━━━━━━━━━━━━━━━━━━━━━━━━━━\u001b[0m \u001b[32m519.2/519.2 kB\u001b[0m \u001b[31m9.0 MB/s\u001b[0m eta \u001b[36m0:00:00\u001b[0m\n",
            "\u001b[?25hRequirement already satisfied: packaging in /usr/local/lib/python3.10/dist-packages (from torchmetrics) (23.1)\n",
            "Requirement already satisfied: torch>=1.8.1 in /usr/local/lib/python3.10/dist-packages (from torchmetrics) (2.0.0+cu118)\n",
            "Requirement already satisfied: numpy>=1.17.2 in /usr/local/lib/python3.10/dist-packages (from torchmetrics) (1.22.4)\n",
            "Requirement already satisfied: typing-extensions in /usr/local/lib/python3.10/dist-packages (from torch>=1.8.1->torchmetrics) (4.5.0)\n",
            "Requirement already satisfied: triton==2.0.0 in /usr/local/lib/python3.10/dist-packages (from torch>=1.8.1->torchmetrics) (2.0.0)\n",
            "Requirement already satisfied: networkx in /usr/local/lib/python3.10/dist-packages (from torch>=1.8.1->torchmetrics) (3.1)\n",
            "Requirement already satisfied: filelock in /usr/local/lib/python3.10/dist-packages (from torch>=1.8.1->torchmetrics) (3.12.0)\n",
            "Requirement already satisfied: sympy in /usr/local/lib/python3.10/dist-packages (from torch>=1.8.1->torchmetrics) (1.11.1)\n",
            "Requirement already satisfied: jinja2 in /usr/local/lib/python3.10/dist-packages (from torch>=1.8.1->torchmetrics) (3.1.2)\n",
            "Requirement already satisfied: cmake in /usr/local/lib/python3.10/dist-packages (from triton==2.0.0->torch>=1.8.1->torchmetrics) (3.25.2)\n",
            "Requirement already satisfied: lit in /usr/local/lib/python3.10/dist-packages (from triton==2.0.0->torch>=1.8.1->torchmetrics) (16.0.2)\n",
            "Requirement already satisfied: MarkupSafe>=2.0 in /usr/local/lib/python3.10/dist-packages (from jinja2->torch>=1.8.1->torchmetrics) (2.1.2)\n",
            "Requirement already satisfied: mpmath>=0.19 in /usr/local/lib/python3.10/dist-packages (from sympy->torch>=1.8.1->torchmetrics) (1.3.0)\n",
            "Installing collected packages: torchmetrics\n",
            "Successfully installed torchmetrics-0.11.4\n"
          ]
        }
      ]
    },
    {
      "cell_type": "code",
      "source": [
        "import os\n",
        "from PIL import Image\n",
        "import numpy as np\n",
        "import pandas as pd\n",
        "import matplotlib.pyplot as plt\n",
        "from sklearn.cluster import KMeans\n",
        "import imageio.v3 as iio\n",
        "import torch\n",
        "import torch.nn as nn\n",
        "import torch.nn.functional as F\n",
        "import torch.optim as optim\n",
        "from torch.utils.data import Dataset, DataLoader\n",
        "from torchvision import transforms\n",
        "import tqdm\n",
        "from tqdm.notebook import tqdm\n",
        "import cv2\n",
        "import torchmetrics"
      ],
      "metadata": {
        "id": "uuILh02o23YF"
      },
      "execution_count": null,
      "outputs": []
    },
    {
      "cell_type": "code",
      "source": [
        "from google.colab import drive\n",
        "drive.mount('/content/drive')"
      ],
      "metadata": {
        "colab": {
          "base_uri": "https://localhost:8080/"
        },
        "id": "ax895xXIhHNE",
        "outputId": "e87cef16-b613-4dfe-f204-2b90a1c04eef"
      },
      "execution_count": null,
      "outputs": [
        {
          "output_type": "stream",
          "name": "stdout",
          "text": [
            "Mounted at /content/drive\n"
          ]
        }
      ]
    },
    {
      "cell_type": "code",
      "source": [
        "!unzip /content/drive/MyDrive/image_segmentation/train.zip"
      ],
      "metadata": {
        "id": "Pft2Ph9mhGNM"
      },
      "execution_count": null,
      "outputs": []
    },
    {
      "cell_type": "code",
      "source": [
        "!unzip /content/drive/MyDrive/image_segmentation/val.zip"
      ],
      "metadata": {
        "id": "1enzd6rSpmwV"
      },
      "execution_count": null,
      "outputs": []
    },
    {
      "cell_type": "code",
      "source": [
        "device = \"cuda:0\" if torch.cuda.is_available() else \"cpu\"\n",
        "device = torch.device(device)\n",
        "print(device)"
      ],
      "metadata": {
        "colab": {
          "base_uri": "https://localhost:8080/"
        },
        "id": "Y1taqi59n9x4",
        "outputId": "53494731-205a-482d-9459-316525a1bbd2"
      },
      "execution_count": null,
      "outputs": [
        {
          "output_type": "stream",
          "name": "stdout",
          "text": [
            "cuda:0\n"
          ]
        }
      ]
    },
    {
      "cell_type": "code",
      "source": [],
      "metadata": {
        "id": "5YMSKStCzo14"
      },
      "execution_count": null,
      "outputs": []
    },
    {
      "cell_type": "markdown",
      "source": [
        "## Preprare train and validation for dataset"
      ],
      "metadata": {
        "id": "yjCoVE1ayN4w"
      }
    },
    {
      "cell_type": "code",
      "source": [
        "# I want a directory of images and their maps \n",
        "def vpath2ipath(train_dir):\n",
        "  train_video_dir = [] # if .png \n",
        "  train_video_masks = [] #if npy\n",
        "  mask_order = []\n",
        "  for video_nm in tqdm(os.listdir(train_dir)):\n",
        "    video_path = os.path.join(train_dir, video_nm)\n",
        "    mask_order.append(video_path)\n",
        "    video_img = []\n",
        "    for img_nm in os.listdir(video_path):\n",
        "      if (\"mask\" not in img_nm):\n",
        "        video_img.append(os.path.join(video_path,img_nm))\n",
        "    video_img = sorted(video_img, key = (lambda x: int(x.split(\"_\")[-1].split(\".\")[0])))\n",
        "    train_video_dir.extend(video_img)\n",
        "  return train_video_dir, mask_order\n",
        "# Probably handle masks in the training loop"
      ],
      "metadata": {
        "id": "lFEtT9FZrRgK"
      },
      "execution_count": null,
      "outputs": []
    },
    {
      "cell_type": "code",
      "source": [
        "train_dir = \"/content/train\"\n",
        "train_video_dir, mask_order_train = vpath2ipath(train_dir)"
      ],
      "metadata": {
        "id": "wOMCAzDFvPA1"
      },
      "execution_count": null,
      "outputs": []
    },
    {
      "cell_type": "code",
      "source": [
        "val_dir = \"/content/val\"\n",
        "val_video_dir, mask_order_val = vpath2ipath(val_dir)"
      ],
      "metadata": {
        "id": "adYzj8kYxi8k"
      },
      "execution_count": null,
      "outputs": []
    },
    {
      "cell_type": "code",
      "source": [],
      "metadata": {
        "id": "ewv77Uo2Nr8q"
      },
      "execution_count": null,
      "outputs": []
    },
    {
      "cell_type": "markdown",
      "source": [
        "## Calculate mean and standard deviation"
      ],
      "metadata": {
        "id": "NDeE4g-jNsry"
      }
    },
    {
      "cell_type": "code",
      "source": [
        "# def compute_mean_std(image_files):\n",
        "#     # Get a list of image file paths    \n",
        "#     # Initialize variables for mean and standard deviation calculation\n",
        "#     num_images = len(image_files)\n",
        "#     channel_sum = np.zeros(3)\n",
        "#     channel_squared_sum = np.zeros(3)\n",
        "    \n",
        "#     # Iterate over images\n",
        "#     for image_file in tqdm(image_files):\n",
        "#         # Open image and convert to tensor\n",
        "#         image = Image.open(image_file)\n",
        "#         image_tensor = ToTensor()(image).numpy()\n",
        "\n",
        "#         # Accumulate the sum and squared sum of pixel values for each channel\n",
        "#         channel_sum += np.sum(image_tensor, axis=(1, 2))\n",
        "#         channel_squared_sum += np.sum(np.square(image_tensor), axis=(1, 2))\n",
        "\n",
        "#     # Calculate mean and standard deviation\n",
        "#     mean = channel_sum / (num_images * image_tensor.shape[1] * image_tensor.shape[2])\n",
        "#     std = np.sqrt(channel_squared_sum / (num_images * image_tensor.shape[1] * image_tensor.shape[2]) - np.square(mean))\n",
        "\n",
        "#     return mean, std\n",
        "\n",
        "# # Replace 'path_to_your_image_folder' with the correct path to your image folder\n",
        "# mean, std = compute_mean_std(img_list)\n",
        "# print(f\"Mean: {mean}\")\n",
        "# print(f\"Standard Deviation: {std}\")\n"
      ],
      "metadata": {
        "id": "rlWmip8CNr_f"
      },
      "execution_count": null,
      "outputs": []
    },
    {
      "cell_type": "code",
      "source": [],
      "metadata": {
        "id": "tpK45lpbyZHC"
      },
      "execution_count": null,
      "outputs": []
    },
    {
      "cell_type": "markdown",
      "source": [
        "## Prepare dataset for dataloader"
      ],
      "metadata": {
        "id": "_TFZCjv7yZQI"
      }
    },
    {
      "cell_type": "code",
      "source": [
        "class UNetDataset(Dataset):\n",
        "    def __init__(self, img_list, transform1=None, transform2=None):\n",
        "        self.img_list = img_list\n",
        "        self.transform1 = transform1\n",
        "        self.transform2 = transform2\n",
        "\n",
        "    def __len__(self):\n",
        "        return len(self.img_list)\n",
        "\n",
        "    def __getitem__(self, idx):\n",
        "        img_name = self.img_list[idx]\n",
        "        image = Image.open(img_name).convert(\"RGB\")\n",
        "\n",
        "        mask_dir = os.path.join(\"/\".join(img_name.split(\"/\")[:-1]), 'mask.npy')\n",
        "        mask_idx = int(\"\".join(img_name.split(\"/\")[-1]).split(\".\")[0].split(\"_\")[1])\n",
        "        mask = np.load(mask_dir)[mask_idx]\n",
        "\n",
        "        # Resize for UNet model \n",
        "        image_np = np.array(image)\n",
        "        image_np = cv2.copyMakeBorder(image_np, top=0, bottom=0, left=0, right=16, borderType=cv2.BORDER_CONSTANT, value=0)\n",
        "\n",
        "\n",
        "        # Resize and pad mask\n",
        "        mask = cv2.copyMakeBorder(mask, top=0, bottom=0, left=0, right=16, borderType=cv2.BORDER_CONSTANT, value=0)\n",
        "\n",
        "        \n",
        "\n",
        "        if self.transform1:\n",
        "            image = self.transform1(Image.fromarray(image_np))\n",
        "        mask = torch.tensor(mask, dtype=torch.long) # this transform won't have any to tensor torch.tensor()\n",
        "        return image, mask"
      ],
      "metadata": {
        "id": "lkwUC76gyH_b"
      },
      "execution_count": null,
      "outputs": []
    },
    {
      "cell_type": "code",
      "source": [
        "transform1 = transforms.Compose([\n",
        "    transforms.RandomRotation(10),  # Data augmentation: random rotation\n",
        "    transforms.ColorJitter(brightness=0.1, contrast=0.1, saturation=0.1, hue=0.1),  # Data augmentation: color jitter\n",
        "    transforms.ToTensor(),  # Convert image to tensor\n",
        "    # transforms.Normalize(mean = [0.50620994, 0.50456696, 0.50085988], std = [0.05694261, 0.05674587, 0.06141094]),\n",
        "])"
      ],
      "metadata": {
        "id": "5eP_tRfRFNaT"
      },
      "execution_count": null,
      "outputs": []
    },
    {
      "cell_type": "code",
      "source": [
        "# train loader \n",
        "batch_size = 32\n",
        "img_list = train_video_dir\n",
        "dataset = UNetDataset(img_list, transform1)\n",
        "train_dataloader = DataLoader(dataset, batch_size=batch_size, shuffle=True, num_workers=4)"
      ],
      "metadata": {
        "id": "146Tvi4kQLz1",
        "colab": {
          "base_uri": "https://localhost:8080/"
        },
        "outputId": "fc28e79d-0daa-45b9-87d3-673368cca158"
      },
      "execution_count": null,
      "outputs": [
        {
          "output_type": "stream",
          "name": "stderr",
          "text": [
            "/usr/local/lib/python3.10/dist-packages/torch/utils/data/dataloader.py:561: UserWarning: This DataLoader will create 4 worker processes in total. Our suggested max number of worker in current system is 2, which is smaller than what this DataLoader is going to create. Please be aware that excessive worker creation might get DataLoader running slow or even freeze, lower the worker number to avoid potential slowness/freeze if necessary.\n",
            "  warnings.warn(_create_warning_msg(\n"
          ]
        }
      ]
    },
    {
      "cell_type": "code",
      "source": [
        "# validation loader \n",
        "batch_size = 32\n",
        "img_list = val_video_dir\n",
        "dataset = UNetDataset(img_list, transform1)\n",
        "val_dataloader = DataLoader(dataset, batch_size=batch_size, shuffle=True, num_workers=4)"
      ],
      "metadata": {
        "id": "lhFI68ONQL3E"
      },
      "execution_count": null,
      "outputs": []
    },
    {
      "cell_type": "code",
      "source": [
        "# Testing out train_dataloader\n",
        "for _, (image, mask) in enumerate(train_dataloader):\n",
        "  break"
      ],
      "metadata": {
        "id": "_Jy_XCvcQ7Cl"
      },
      "execution_count": null,
      "outputs": []
    },
    {
      "cell_type": "code",
      "source": [
        "plt.imshow(mask[21])"
      ],
      "metadata": {
        "colab": {
          "base_uri": "https://localhost:8080/",
          "height": 392
        },
        "id": "30KxioNYQ7Ec",
        "outputId": "6d68aec8-46d3-43f0-f363-cc329e294831"
      },
      "execution_count": null,
      "outputs": [
        {
          "output_type": "execute_result",
          "data": {
            "text/plain": [
              "<matplotlib.image.AxesImage at 0x7f5af5dcbbe0>"
            ]
          },
          "metadata": {},
          "execution_count": 27
        },
        {
          "output_type": "display_data",
          "data": {
            "text/plain": [
              "<Figure size 640x480 with 1 Axes>"
            ],
            "image/png": "[encoded data removed]"
          },
          "metadata": {}
        }
      ]
    },
    {
      "cell_type": "code",
      "source": [
        "plt.imshow(image[21].permute(1,2,0))"
      ],
      "metadata": {
        "colab": {
          "base_uri": "https://localhost:8080/",
          "height": 392
        },
        "id": "y4hCFD7CJbm6",
        "outputId": "8ac183cc-324e-4dba-bf63-eba76cd6ede7"
      },
      "execution_count": null,
      "outputs": [
        {
          "output_type": "execute_result",
          "data": {
            "text/plain": [
              "<matplotlib.image.AxesImage at 0x7f5af3b176a0>"
            ]
          },
          "metadata": {},
          "execution_count": 28
        },
        {
          "output_type": "display_data",
          "data": {
            "text/plain": [
              "<Figure size 640x480 with 1 Axes>"
            ],
            "image/png": "[encoded data removed]"
          },
          "metadata": {}
        }
      ]
    },
    {
      "cell_type": "code",
      "source": [],
      "metadata": {
        "id": "nz3CPD3IPxVi"
      },
      "execution_count": null,
      "outputs": []
    },
    {
      "cell_type": "markdown",
      "source": [
        "## U-Net"
      ],
      "metadata": {
        "id": "OpfPokM-P0Kx"
      }
    },
    {
      "cell_type": "code",
      "source": [
        "!pip install -q -U segmentation-models-pytorch albumentations > /dev/null\n",
        "import segmentation_models_pytorch as smp"
      ],
      "metadata": {
        "id": "KDLa_LymPxfB"
      },
      "execution_count": null,
      "outputs": []
    },
    {
      "cell_type": "code",
      "source": [
        "model = smp.Unet(\n",
        "    encoder_name=\"resnet50\",  # Choose an encoder architecture, e.g., \"resnet34\", \"resnet50\", \"densenet121\", etc.\n",
        "    encoder_weights=None,  # Pretrained weights for the encoder, \"imagenet\" or None\n",
        "    in_channels=3,  # Number of input channels\n",
        "    classes=49,  # Number of output classes\n",
        ").to(device)"
      ],
      "metadata": {
        "id": "-P80oI4tTTJW"
      },
      "execution_count": null,
      "outputs": []
    },
    {
      "cell_type": "code",
      "source": [
        "epochs = 15\n",
        "criterion = smp.losses.DiceLoss('multiclass').to(device)\n",
        "optimizer = torch.optim.Adam([ \n",
        "    dict(params=model.parameters(), lr=0.00008),\n",
        "])"
      ],
      "metadata": {
        "id": "6eAdXJaJPxhi"
      },
      "execution_count": null,
      "outputs": []
    },
    {
      "cell_type": "code",
      "source": [
        "best_val_loss = 10000.0\n",
        "for epoch in range(epochs):\n",
        "    print(f\"Epoch {epoch + 1}/{epochs}\")\n",
        "\n",
        "    # Training loop\n",
        "    model.train()\n",
        "    train_loss = 0.0\n",
        "    for images, masks in train_dataloader:\n",
        "        images, masks = images.to(device), masks.to(device)\n",
        "\n",
        "        optimizer.zero_grad()\n",
        "        outputs = model(images)\n",
        "        loss = criterion(outputs, masks)\n",
        "        loss.backward()\n",
        "        optimizer.step()\n",
        "\n",
        "        train_loss += loss.item()\n",
        "\n",
        "    train_loss /= len(train_dataloader)\n",
        "    print(f\"Train Loss: {train_loss:.4f}\")\n",
        "\n",
        "    # Validation loop\n",
        "    model.eval()\n",
        "    val_loss = 0.0\n",
        "    with torch.no_grad():\n",
        "        for images, masks in val_dataloader:\n",
        "            images, masks = images.to(device), masks.to(device)\n",
        "\n",
        "            outputs = model(images)\n",
        "            loss = criterion(outputs, masks)\n",
        "\n",
        "            val_loss += loss.item()\n",
        "\n",
        "    val_loss /= len(val_dataloader)\n",
        "    print(f\"Validation Loss: {val_loss:.4f}\")\n",
        "    if val_loss<best_val_loss:\n",
        "      print(\"best iter so far\\n\")\n",
        "      best_val_loss = val_loss\n",
        "      model_state_dict = model.state_dict(),\n",
        "      optimizer_state_dict = optimizer.state_dict()"
      ],
      "metadata": {
        "id": "52sD51j7jfgp",
        "colab": {
          "base_uri": "https://localhost:8080/"
        },
        "outputId": "f162e13f-ade2-49d6-a56b-a2b3ae9dc27a"
      },
      "execution_count": null,
      "outputs": [
        {
          "output_type": "stream",
          "name": "stdout",
          "text": [
            "Epoch 1/15\n",
            "Train Loss: 0.8915\n",
            "Validation Loss: 0.8335\n",
            "best iter so far\n",
            "\n",
            "Epoch 2/15\n"
          ]
        }
      ]
    },
    {
      "cell_type": "code",
      "source": [
        "torch.save(model.state_dict(), \"simple_model.pt\")"
      ],
      "metadata": {
        "id": "H7vVbU6Ijfiy"
      },
      "execution_count": null,
      "outputs": []
    },
    {
      "cell_type": "code",
      "source": [
        "#0.128"
      ],
      "metadata": {
        "id": "Zp-Hcl-daTj7"
      },
      "execution_count": null,
      "outputs": []
    },
    {
      "cell_type": "markdown",
      "source": [
        "## Model inference"
      ],
      "metadata": {
        "id": "hIqMKJg6aRT_"
      }
    },
    {
      "cell_type": "code",
      "source": [
        "# Load the model architecture\n",
        "model = smp.Unet(\n",
        "    encoder_name=\"resnet50\",  # Choose an encoder architecture, e.g., \"resnet34\", \"resnet50\", \"densenet121\", etc.\n",
        "    encoder_weights=None,  # Pretrained weights for the encoder, \"imagenet\" or None\n",
        "    in_channels=3,  # Number of input channels\n",
        "    classes=49,  # Number of output classes\n",
        ").to(device)"
      ],
      "metadata": {
        "id": "81K_ua99dIvj"
      },
      "execution_count": null,
      "outputs": []
    },
    {
      "cell_type": "code",
      "source": [
        "# Load model weights\n",
        "model.load_state_dict(torch.load(\"/content/drive/MyDrive/image_segmentation/simple_model.pt\")[0])"
      ],
      "metadata": {
        "colab": {
          "base_uri": "https://localhost:8080/"
        },
        "id": "lHqnEFsXdS-L",
        "outputId": "d9da4b38-b0d6-499c-8361-549675ff1403"
      },
      "execution_count": null,
      "outputs": [
        {
          "output_type": "execute_result",
          "data": {
            "text/plain": [
              "<All keys matched successfully>"
            ]
          },
          "metadata": {},
          "execution_count": 81
        }
      ]
    },
    {
      "cell_type": "code",
      "source": [
        "# Get the data \n",
        "!unzip /content/drive/MyDrive/image_segmentation/hidden_set_for_leaderboard_1.zip"
      ],
      "metadata": {
        "id": "jTWHdB15Ljss"
      },
      "execution_count": null,
      "outputs": []
    },
    {
      "cell_type": "code",
      "source": [
        "# Create data loader with sorted list of videos\n",
        "test_path = '/content/hidden'\n",
        "test_data = []\n",
        "for video_nm in tqdm(os.listdir(test_path)):\n",
        "  test_data.append(os.path.join(test_path, video_nm))\n",
        "test_data = sorted(test_data, key = (lambda x:int(x.split('_')[-1])))"
      ],
      "metadata": {
        "colab": {
          "base_uri": "https://localhost:8080/",
          "height": 49,
          "referenced_widgets": [
            "b4402e23ea6942b29e40b60d98c6e160",
            "a00c2671ff4a4daca6feb15b53e68308",
            "0e81d20f71854095accd19e952cc0838",
            "98af8dce45f34914b9498069ff1602d0",
            "7dffb6911fda49bda32c7634c70e2ad8",
            "d296d87406314d358fe64359f5051d23",
            "f7ed58c59d534ac7ae3e70a3cc81b007",
            "c9f239768c004aef9a8af44145852675",
            "173be9682fc74bb5a2820e5a65e62681",
            "fb31310137c84576bb07ff34897eaf72",
            "28bd6148d46340968dd65271bf417b64"
          ]
        },
        "id": "W-zDKOXFLjxK",
        "outputId": "1c718789-76e4-4786-9bbd-573c20352047"
      },
      "execution_count": null,
      "outputs": [
        {
          "output_type": "display_data",
          "data": {
            "text/plain": [
              "  0%|          | 0/2000 [00:00<?, ?it/s]"
            ],
            "application/vnd.jupyter.widget-view+json": {
              "version_major": 2,
              "version_minor": 0,
              "model_id": "b4402e23ea6942b29e40b60d98c6e160"
            }
          },
          "metadata": {}
        }
      ]
    },
    {
      "cell_type": "code",
      "source": [
        "# Test dataloader\n",
        "class UNetDatasetTest(Dataset):\n",
        "    def __init__(self, video_list, transform1=None):\n",
        "        self.video_list = video_list\n",
        "        self.transform1 = transform1\n",
        "\n",
        "    def __len__(self):\n",
        "        return len(self.video_list)\n",
        "\n",
        "    def __getitem__(self, idx):\n",
        "        video_path = self.video_list[idx]\n",
        "        img_name = os.path.join(video_path, 'image_10.png')\n",
        "        image = Image.open(img_name).convert(\"RGB\")\n",
        "\n",
        "        # Resize for UNet model \n",
        "        image_np = np.array(image)\n",
        "        image_np = cv2.copyMakeBorder(image_np, top=0, bottom=0, left=0, right=16, borderType=cv2.BORDER_CONSTANT, value=0)      \n",
        "\n",
        "        if self.transform1:\n",
        "            image = self.transform1(Image.fromarray(image_np))\n",
        "        return image, img_name"
      ],
      "metadata": {
        "id": "1XgKMcoVjfqk"
      },
      "execution_count": null,
      "outputs": []
    },
    {
      "cell_type": "code",
      "source": [
        "# transforms\n",
        "transform_test = transforms.Compose([\n",
        "    transforms.ToTensor(),  # Convert image to tensor\n",
        "])"
      ],
      "metadata": {
        "id": "JGcdpj0Ijfs5"
      },
      "execution_count": null,
      "outputs": []
    },
    {
      "cell_type": "code",
      "source": [
        "# test loader \n",
        "batch_size = 32\n",
        "dataset = UNetDatasetTest(test_data, transform_test)\n",
        "test_dataloader = DataLoader(dataset, batch_size=batch_size, num_workers=4, shuffle=False)"
      ],
      "metadata": {
        "id": "fy98z5Ekjfvg",
        "colab": {
          "base_uri": "https://localhost:8080/"
        },
        "outputId": "10f7e3ae-fabf-4d55-d295-eb5911a7cec5"
      },
      "execution_count": null,
      "outputs": [
        {
          "output_type": "stream",
          "name": "stderr",
          "text": [
            "/usr/local/lib/python3.10/dist-packages/torch/utils/data/dataloader.py:561: UserWarning: This DataLoader will create 4 worker processes in total. Our suggested max number of worker in current system is 2, which is smaller than what this DataLoader is going to create. Please be aware that excessive worker creation might get DataLoader running slow or even freeze, lower the worker number to avoid potential slowness/freeze if necessary.\n",
            "  warnings.warn(_create_warning_msg(\n"
          ]
        }
      ]
    },
    {
      "cell_type": "code",
      "source": [
        "# Model inference\n",
        "model.eval()\n",
        "test_loss = 0\n",
        "correct = 0\n",
        "total = 0\n",
        "result = []\n",
        "criterion = smp.losses.DiceLoss('multiclass').to(device)\n",
        "\n",
        "# Iterate over the test dataset\n",
        "with torch.no_grad():\n",
        "    for data, dir in tqdm(test_dataloader):\n",
        "        # Perform a forward pass through the model\n",
        "        data = data.to(device)\n",
        "        output = model(data)\n",
        "        _, predicted = torch.max(output.data, 1)\n",
        "        predicted = predicted[:,:,0:240]\n",
        "        result.append(predicted)"
      ],
      "metadata": {
        "colab": {
          "base_uri": "https://localhost:8080/",
          "height": 49,
          "referenced_widgets": [
            "490a013f9c9247ac95908bc8bf45bbeb",
            "595f8241a97a453ab444146624f66e98",
            "3593a4c67e1e40c9a9ecb13273a5f241",
            "54fa26e4c2434c288e49132c36ebe1a4",
            "7f5b54a72b6341a6a278c71b25eb2e92",
            "a8fccb43322c4962b6986ffa2406f329",
            "ecd19566bf034f2394e4cbcc2bd14dd9",
            "b3f13ffd4fbb4fa48fa93f980a116a0c",
            "d53ee73c08714cfaa768ddaa0cdf48ab",
            "27ce34deb20a41e4b5b5989ae1c0164b",
            "809205abe0964a9c9336649dc100de34"
          ]
        },
        "id": "Y71r-Udta6R4",
        "outputId": "a9eca6ed-d612-4706-d422-81b4a1d32eea"
      },
      "execution_count": null,
      "outputs": [
        {
          "output_type": "display_data",
          "data": {
            "text/plain": [
              "  0%|          | 0/63 [00:00<?, ?it/s]"
            ],
            "application/vnd.jupyter.widget-view+json": {
              "version_major": 2,
              "version_minor": 0,
              "model_id": "490a013f9c9247ac95908bc8bf45bbeb"
            }
          },
          "metadata": {}
        }
      ]
    },
    {
      "cell_type": "code",
      "source": [
        "predictions = torch.cat(result, dim = 0)"
      ],
      "metadata": {
        "id": "64qZGaViQdyb"
      },
      "execution_count": null,
      "outputs": []
    },
    {
      "cell_type": "code",
      "source": [
        "torch.save(predictions, 'predictions.pt')"
      ],
      "metadata": {
        "id": "LwT2enRDR_XI"
      },
      "execution_count": null,
      "outputs": []
    },
    {
      "cell_type": "code",
      "source": [
        "plt.imshow(predictions[0,:,:].to('cpu'))"
      ],
      "metadata": {
        "colab": {
          "base_uri": "https://localhost:8080/",
          "height": 412
        },
        "id": "HL15-ZROQzHW",
        "outputId": "e2071f8d-6175-4661-e575-0690f1536400"
      },
      "execution_count": null,
      "outputs": [
        {
          "output_type": "execute_result",
          "data": {
            "text/plain": [
              "<matplotlib.image.AxesImage at 0x7f4d5efaaf20>"
            ]
          },
          "metadata": {},
          "execution_count": 104
        },
        {
          "output_type": "display_data",
          "data": {
            "text/plain": [
              "<Figure size 640x480 with 1 Axes>"
            ],
            "image/png": "[encoded data removed]"
          },
          "metadata": {}
        }
      ]
    },
    {
      "cell_type": "code",
      "source": [
        "plt.imshow(Image.open(os.path.join(test_data[0], 'image_10.png')).convert('RGB'))"
      ],
      "metadata": {
        "colab": {
          "base_uri": "https://localhost:8080/",
          "height": 412
        },
        "id": "AXQyc3FWTuKy",
        "outputId": "40660b53-13a9-48d2-f993-4f6d07ea2321"
      },
      "execution_count": null,
      "outputs": [
        {
          "output_type": "execute_result",
          "data": {
            "text/plain": [
              "<matplotlib.image.AxesImage at 0x7f4d5c22ea70>"
            ]
          },
          "metadata": {},
          "execution_count": 105
        },
        {
          "output_type": "display_data",
          "data": {
            "text/plain": [
              "<Figure size 640x480 with 1 Axes>"
            ],
            "image/png": "[encoded data removed]"
          },
          "metadata": {}
        }
      ]
    },
    {
      "cell_type": "code",
      "source": [
        "predictions = predictions.to(device)\n",
        "jaccard = torchmetrics.JaccardIndex(task=\"multiclass\", num_classes=49).to(device)\n",
        "jaccard(predictions[0], predictions[0])"
      ],
      "metadata": {
        "colab": {
          "base_uri": "https://localhost:8080/"
        },
        "id": "gWEgpr3FTlCL",
        "outputId": "f2d60f63-6722-4d24-8049-a33a70c0b7ca"
      },
      "execution_count": null,
      "outputs": [
        {
          "output_type": "execute_result",
          "data": {
            "text/plain": [
              "tensor(0.0816, device='cuda:0')"
            ]
          },
          "metadata": {},
          "execution_count": 106
        }
      ]
    }
  ]
}